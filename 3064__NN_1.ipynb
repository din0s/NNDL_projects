{
  "nbformat": 4,
  "nbformat_minor": 0,
  "metadata": {
    "colab": {
      "name": "3064_NN_1",
      "provenance": [],
      "collapsed_sections": [
        "h_pKe_hmtkHl",
        "cbzsmzcstEDB",
        "v0GQJ23-cL74"
      ]
    },
    "kernelspec": {
      "name": "python3",
      "display_name": "Python 3"
    },
    "accelerator": "GPU"
  },
  "cells": [
    {
      "cell_type": "markdown",
      "metadata": {
        "id": "l4tMK1F3qhez"
      },
      "source": [
        "## Library Imports"
      ]
    },
    {
      "cell_type": "code",
      "metadata": {
        "id": "poZpUXiCp2cS"
      },
      "source": [
        "import matplotlib.pyplot as plt\n",
        "import numpy as np\n",
        "import pandas as pd\n",
        "import tensorflow as tf\n",
        "from tensorflow import keras\n",
        "from tensorflow.keras import layers"
      ],
      "execution_count": null,
      "outputs": []
    },
    {
      "cell_type": "markdown",
      "metadata": {
        "id": "h_pKe_hmtkHl"
      },
      "source": [
        "## Utility functions"
      ]
    },
    {
      "cell_type": "code",
      "metadata": {
        "id": "GmnunKP4tjve"
      },
      "source": [
        "import time\n",
        "\n",
        "def stopwatch(func):\n",
        "  start = time.time()\n",
        "  func()\n",
        "  end = time.time()\n",
        "  return \"%.2f\" % ((end - start) * 1000)"
      ],
      "execution_count": null,
      "outputs": []
    },
    {
      "cell_type": "markdown",
      "metadata": {
        "id": "_rei1cEyq2_j"
      },
      "source": [
        "## Preparing data"
      ]
    },
    {
      "cell_type": "code",
      "metadata": {
        "id": "cbrDxrClq4J8"
      },
      "source": [
        "max_value = 255\n",
        "num_classes = 10\n",
        "normalize_data = True\n",
        "\n",
        "(X_train, Y_train), (x_test, y_test) = tf.keras.datasets.mnist.load_data()\n",
        "\n",
        "if normalize_data:\n",
        "  X_train = X_train / max_value\n",
        "  x_test = x_test / max_value\n",
        "\n",
        "# prepare for scikit models\n",
        "sk_X_train = [x.flatten() for x in X_train]\n",
        "sk_x_test = [x.flatten() for x in x_test]\n",
        "\n",
        "# prepare for tensorflow\n",
        "tf_X_train = np.expand_dims(X_train, -1)\n",
        "tf_Y_train = keras.utils.to_categorical(Y_train, num_classes)\n",
        "tf_x_test = np.expand_dims(x_test, -1)\n",
        "tf_y_test = keras.utils.to_categorical(y_test, num_classes)\n",
        "\n",
        "input_shape = tf_X_train[0].shape"
      ],
      "execution_count": null,
      "outputs": []
    },
    {
      "cell_type": "markdown",
      "metadata": {
        "id": "cbzsmzcstEDB"
      },
      "source": [
        "## K-Nearest Neighbor"
      ]
    },
    {
      "cell_type": "code",
      "metadata": {
        "id": "VdEQGHdQtFys"
      },
      "source": [
        "from collections import Counter\n",
        "from heapq import heappop, heappush, heapify\n",
        "from sklearn.metrics import accuracy_score\n",
        "\n",
        "class KnnClassifier:\n",
        "  def __init__(self, k):\n",
        "    self.k = k\n",
        "\n",
        "  def _push(self, heap, dist, labels, label):\n",
        "    heappush(heap, dist)\n",
        "    dist = str(-dist)\n",
        "    if dist in labels:\n",
        "      labels[dist].append(label)\n",
        "    else:\n",
        "      labels[dist] = [label]\n",
        "  \n",
        "  def _pop(self, heap, labels):\n",
        "    dist = str(-heappop(heap))\n",
        "    if len(labels[dist]) == 1:\n",
        "      del labels[dist]\n",
        "    else:\n",
        "      labels[dist].pop()\n",
        "\n",
        "  def fit(self, X, Y):\n",
        "    self.X = X\n",
        "    self.Y = Y\n",
        "\n",
        "  def predict(self, x, prob=False):\n",
        "    labels = {}\n",
        "    max_heap = [] ; heapify(max_heap)\n",
        "    for i in range(self.k):\n",
        "      dist = np.linalg.norm(self.X[i] - x)\n",
        "      if self.k == 1 and not prob and dist == 0:\n",
        "        return self.Y[i]\n",
        "      self._push(max_heap, -dist, labels, self.Y[i])\n",
        "\n",
        "    for i in range(self.k, len(self.X)):\n",
        "      max_dist = -max_heap[0]\n",
        "      new_dist = np.linalg.norm(self.X[i] - x)\n",
        "      if self.k == 1 and not prob and new_dist == 0:\n",
        "        return self.Y[i]\n",
        "      elif new_dist < max_dist:\n",
        "        self._pop(max_heap, labels)\n",
        "        self._push(max_heap, -new_dist, labels, self.Y[i])\n",
        "\n",
        "    labels = np.array(list(labels.values())).flatten()\n",
        "    labels = Counter(labels).most_common()\n",
        "\n",
        "    if prob:\n",
        "      return dict([(l, c / self.k) for (l, c) in labels])\n",
        "    else:\n",
        "      return labels[0][0]\n",
        "\n",
        "  def score(self, x_train, y_train):\n",
        "    y_pred = [self.predict(sample) for sample in x_train]\n",
        "    return accuracy_score(y_train, y_pred)"
      ],
      "execution_count": null,
      "outputs": []
    },
    {
      "cell_type": "code",
      "metadata": {
        "id": "DT-n34c1cMlW",
        "colab": {
          "base_uri": "https://localhost:8080/"
        },
        "outputId": "b6164e74-c418-4bf8-c311-ebf4fd807cd9"
      },
      "source": [
        "knn1 = KnnClassifier(1)\n",
        "\n",
        "train_time = stopwatch(lambda: knn1.fit(X_train, Y_train))\n",
        "print(\"Training time:\", train_time, \"ms\")\n",
        "\n",
        "test_time = stopwatch(lambda: print(\"1-Nearest Neighbor accuracy:\", knn1.score(x_test, y_test)))\n",
        "print(\"Testing time:\", test_time, \"ms\")"
      ],
      "execution_count": null,
      "outputs": [
        {
          "output_type": "stream",
          "text": [
            "Training time: 0.00 ms\n",
            "1-Nearest Neighbor accuracy: 0.9691\n",
            "Testing time: 5092545.09 ms\n"
          ],
          "name": "stdout"
        }
      ]
    },
    {
      "cell_type": "code",
      "metadata": {
        "id": "5ydYdwTIcnHf",
        "colab": {
          "base_uri": "https://localhost:8080/"
        },
        "outputId": "16d2c3b9-4561-487d-833b-f8f20b7d0597"
      },
      "source": [
        "knn3 = KnnClassifier(3)\n",
        "\n",
        "train_time = stopwatch(lambda: knn3.fit(X_train, Y_train))\n",
        "print(\"Training time:\", train_time, \"ms\")\n",
        "\n",
        "test_time = stopwatch(lambda: print(\"3-Nearest Neighbor accuracy:\", knn3.score(x_test, y_test)))\n",
        "print(\"Testing time:\", test_time, \"ms\")"
      ],
      "execution_count": null,
      "outputs": [
        {
          "output_type": "stream",
          "text": [
            "Training time: 0.00 ms\n",
            "3-Nearest Neighbor accuracy: 0.9712\n",
            "Testing time: 4780350.76 ms\n"
          ],
          "name": "stdout"
        }
      ]
    },
    {
      "cell_type": "code",
      "metadata": {
        "id": "A9qNrWyTfV7k",
        "colab": {
          "base_uri": "https://localhost:8080/"
        },
        "outputId": "912bbde4-ffcf-4113-a020-dd3b7865dffb"
      },
      "source": [
        "from sklearn.neighbors import KNeighborsClassifier\n",
        "\n",
        "sk_knn1 = KNeighborsClassifier(1)\n",
        "\n",
        "train_time = stopwatch(lambda: sk_knn1.fit(sk_X_train, Y_train))\n",
        "print(\"Training time:\", train_time, \"ms\")\n",
        "\n",
        "test_time = stopwatch(lambda: print(\"SK 1-Nearest Neighbor accuracy:\", sk_knn1.score(sk_x_test, y_test)))\n",
        "print(\"Testing time:\", test_time, \"ms\")"
      ],
      "execution_count": null,
      "outputs": [
        {
          "output_type": "stream",
          "text": [
            "Training time: 28840.08 ms\n",
            "SK 1-Nearest Neighbor accuracy: 0.9691\n",
            "Testing time: 986480.85 ms\n"
          ],
          "name": "stdout"
        }
      ]
    },
    {
      "cell_type": "code",
      "metadata": {
        "id": "quEyI_RNgDdG",
        "colab": {
          "base_uri": "https://localhost:8080/"
        },
        "outputId": "82dcd1e2-0be0-474b-f8ee-ca44eb7119a1"
      },
      "source": [
        "from sklearn.neighbors import KNeighborsClassifier\n",
        "\n",
        "sk_knn3 = KNeighborsClassifier(3)\n",
        "\n",
        "train_time = stopwatch(lambda: sk_knn3.fit(sk_X_train, Y_train))\n",
        "print(\"Training time:\", train_time, \"ms\")\n",
        "\n",
        "test_time = stopwatch(lambda: print(\"SK 3-Nearest Neighbor accuracy:\", sk_knn3.score(sk_x_test, y_test)))\n",
        "print(\"Testing time:\", test_time, \"ms\")"
      ],
      "execution_count": null,
      "outputs": [
        {
          "output_type": "stream",
          "text": [
            "Training time: 20215.17 ms\n",
            "SK 3-Nearest Neighbor accuracy: 0.9705\n",
            "Testing time: 978822.98 ms\n"
          ],
          "name": "stdout"
        }
      ]
    },
    {
      "cell_type": "markdown",
      "metadata": {
        "id": "v0GQJ23-cL74"
      },
      "source": [
        "## Nearest Centroid"
      ]
    },
    {
      "cell_type": "code",
      "metadata": {
        "id": "cOVCLgFpHR9I"
      },
      "source": [
        "from sklearn.metrics import accuracy_score\n",
        "\n",
        "class NcClassifier:\n",
        "  def fit(self, X, Y):\n",
        "    self.centroids = {}\n",
        "    centroid_example = np.zeros(np.shape(X[0]))\n",
        "    for label in set(Y):\n",
        "      self.centroids[label] = []\n",
        "    for i in range(len(X)):\n",
        "      label = Y[i]\n",
        "      self.centroids[label].append(X[i])\n",
        "    for label in set(Y):\n",
        "      centroid = self.centroids[label]\n",
        "      self.centroids[label] = sum(centroid) / len(centroid)\n",
        "\n",
        "  def predict(self, x, prob=False):\n",
        "    distances = {}\n",
        "    for (label, centroid) in self.centroids.items():\n",
        "      distances[label] = np.linalg.norm(centroid - x)\n",
        "\n",
        "    if prob:\n",
        "      return distances\n",
        "    else:\n",
        "      return min(distances, key=distances.get)\n",
        "\n",
        "  def score(self, x_train, y_train):\n",
        "    y_pred = [self.predict(sample) for sample in x_train]\n",
        "    return accuracy_score(y_train, y_pred)"
      ],
      "execution_count": null,
      "outputs": []
    },
    {
      "cell_type": "code",
      "metadata": {
        "id": "KKdfsF8Qcpt0",
        "colab": {
          "base_uri": "https://localhost:8080/"
        },
        "outputId": "7d626470-7eb2-47d6-ac4d-d169953b4a8e"
      },
      "source": [
        "nc = NcClassifier()\n",
        "\n",
        "train_time = stopwatch(lambda: nc.fit(X_train, Y_train))\n",
        "print(\"Training time:\", train_time, \"ms\")\n",
        "\n",
        "test_time = stopwatch(lambda: print(\"Nearest Centroid accuracy:\", nc.score(x_test, y_test)))\n",
        "print(\"Testing time:\", test_time, \"ms\")"
      ],
      "execution_count": null,
      "outputs": [
        {
          "output_type": "stream",
          "text": [
            "Training time: 166.61 ms\n",
            "Nearest Centroid accuracy: 0.8203\n",
            "Testing time: 743.40 ms\n"
          ],
          "name": "stdout"
        }
      ]
    },
    {
      "cell_type": "code",
      "metadata": {
        "id": "laevGy5nd9tC",
        "colab": {
          "base_uri": "https://localhost:8080/"
        },
        "outputId": "8eba01fd-07a6-4c5d-f79a-958de6cad2bd"
      },
      "source": [
        "from sklearn.neighbors import NearestCentroid\n",
        "\n",
        "sk_nc = NearestCentroid()\n",
        "\n",
        "train_time = stopwatch(lambda: sk_nc.fit(sk_X_train, Y_train))\n",
        "print(\"Training time:\", train_time, \"ms\")\n",
        "\n",
        "test_time = stopwatch(lambda: print(\"SK Nearest Centroid accuracy:\", sk_nc.score(sk_x_test, y_test)))\n",
        "print(\"Testing time:\", test_time, \"ms\")"
      ],
      "execution_count": null,
      "outputs": [
        {
          "output_type": "stream",
          "text": [
            "Training time: 283.45 ms\n",
            "SK Nearest Centroid accuracy: 0.8203\n",
            "Testing time: 60.62 ms\n"
          ],
          "name": "stdout"
        }
      ]
    },
    {
      "cell_type": "markdown",
      "metadata": {
        "id": "0bkbEoaiiqUG"
      },
      "source": [
        "## Neural Networks"
      ]
    },
    {
      "cell_type": "markdown",
      "metadata": {
        "id": "ybF_Yg8qnRd9"
      },
      "source": [
        "### Experimenting"
      ]
    },
    {
      "cell_type": "code",
      "metadata": {
        "id": "Ty4pIxiTv60P"
      },
      "source": [
        "batch_size = 128\n",
        "epochs = 15\n",
        "validation_split = 0.1\n",
        "\n",
        "models = {}"
      ],
      "execution_count": null,
      "outputs": []
    },
    {
      "cell_type": "code",
      "metadata": {
        "id": "N0U4NM3Yipwg",
        "colab": {
          "base_uri": "https://localhost:8080/"
        },
        "outputId": "d4e7e232-98bf-4c61-bd84-8f66cd712390"
      },
      "source": [
        "model = keras.Sequential(\n",
        "    [\n",
        "     layers.Input(shape=input_shape), # input layer\n",
        "     layers.Dense(300, activation=\"relu\", name=\"layer1\"), # dense layer with 300 units\n",
        "     layers.Flatten(name=\"flatten\"), # flatten previous layer\n",
        "     layers.Dense(num_classes, activation=\"softmax\", name=\"output\") # softmax output layer\n",
        "    ],\n",
        "    name=\"2-layer_300HU\"\n",
        ")\n",
        "\n",
        "model.summary()\n",
        "\n",
        "model.compile(optimizer=\"adam\", loss=\"categorical_crossentropy\", metrics=[\"accuracy\"])\n",
        "model.fit(tf_X_train, tf_Y_train, batch_size=batch_size, epochs=epochs, validation_split=validation_split, verbose=1)\n",
        "models[model.name] = model"
      ],
      "execution_count": null,
      "outputs": [
        {
          "output_type": "stream",
          "text": [
            "Model: \"2-layer_300HU\"\n",
            "_________________________________________________________________\n",
            "Layer (type)                 Output Shape              Param #   \n",
            "=================================================================\n",
            "layer1 (Dense)               (None, 28, 28, 300)       600       \n",
            "_________________________________________________________________\n",
            "flatten (Flatten)            (None, 235200)            0         \n",
            "_________________________________________________________________\n",
            "output (Dense)               (None, 10)                2352010   \n",
            "=================================================================\n",
            "Total params: 2,352,610\n",
            "Trainable params: 2,352,610\n",
            "Non-trainable params: 0\n",
            "_________________________________________________________________\n",
            "Epoch 1/15\n",
            "422/422 [==============================] - 4s 10ms/step - loss: 0.3690 - accuracy: 0.8952 - val_loss: 0.2512 - val_accuracy: 0.9270\n",
            "Epoch 2/15\n",
            "422/422 [==============================] - 4s 10ms/step - loss: 0.2962 - accuracy: 0.9159 - val_loss: 0.2397 - val_accuracy: 0.9338\n",
            "Epoch 3/15\n",
            "422/422 [==============================] - 4s 10ms/step - loss: 0.2849 - accuracy: 0.9195 - val_loss: 0.2444 - val_accuracy: 0.9328\n",
            "Epoch 4/15\n",
            "422/422 [==============================] - 4s 10ms/step - loss: 0.2782 - accuracy: 0.9218 - val_loss: 0.2496 - val_accuracy: 0.9298\n",
            "Epoch 5/15\n",
            "422/422 [==============================] - 4s 10ms/step - loss: 0.2717 - accuracy: 0.9234 - val_loss: 0.2398 - val_accuracy: 0.9337\n",
            "Epoch 6/15\n",
            "422/422 [==============================] - 4s 10ms/step - loss: 0.2661 - accuracy: 0.9255 - val_loss: 0.2363 - val_accuracy: 0.9352\n",
            "Epoch 7/15\n",
            "422/422 [==============================] - 4s 10ms/step - loss: 0.2605 - accuracy: 0.9261 - val_loss: 0.2265 - val_accuracy: 0.9378\n",
            "Epoch 8/15\n",
            "422/422 [==============================] - 4s 10ms/step - loss: 0.2554 - accuracy: 0.9287 - val_loss: 0.2390 - val_accuracy: 0.9352\n",
            "Epoch 9/15\n",
            "422/422 [==============================] - 4s 10ms/step - loss: 0.2473 - accuracy: 0.9315 - val_loss: 0.2263 - val_accuracy: 0.9382\n",
            "Epoch 10/15\n",
            "422/422 [==============================] - 4s 10ms/step - loss: 0.2420 - accuracy: 0.9332 - val_loss: 0.2282 - val_accuracy: 0.9378\n",
            "Epoch 11/15\n",
            "422/422 [==============================] - 4s 10ms/step - loss: 0.2364 - accuracy: 0.9336 - val_loss: 0.2222 - val_accuracy: 0.9380\n",
            "Epoch 12/15\n",
            "422/422 [==============================] - 4s 10ms/step - loss: 0.2302 - accuracy: 0.9358 - val_loss: 0.2254 - val_accuracy: 0.9397\n",
            "Epoch 13/15\n",
            "422/422 [==============================] - 4s 10ms/step - loss: 0.2237 - accuracy: 0.9376 - val_loss: 0.2196 - val_accuracy: 0.9403\n",
            "Epoch 14/15\n",
            "422/422 [==============================] - 4s 10ms/step - loss: 0.2172 - accuracy: 0.9388 - val_loss: 0.2177 - val_accuracy: 0.9410\n",
            "Epoch 15/15\n",
            "422/422 [==============================] - 4s 10ms/step - loss: 0.2149 - accuracy: 0.9394 - val_loss: 0.2304 - val_accuracy: 0.9350\n"
          ],
          "name": "stdout"
        }
      ]
    },
    {
      "cell_type": "code",
      "metadata": {
        "id": "15oT1nu3zwdH",
        "colab": {
          "base_uri": "https://localhost:8080/"
        },
        "outputId": "ee648ab2-97ec-4e08-a15a-8032e49a3f02"
      },
      "source": [
        "model = keras.Sequential(\n",
        "    [\n",
        "     layers.Input(shape=input_shape),\n",
        "     layers.Dense(800, activation=\"relu\", name=\"layer1\"),\n",
        "     layers.Flatten(name=\"flatten\"),\n",
        "     layers.Dense(num_classes, activation=\"softmax\", name=\"output\")\n",
        "    ],\n",
        "    name=\"2-layer_800HU\"\n",
        ")\n",
        "\n",
        "model.summary()\n",
        "\n",
        "model.compile(optimizer=\"adam\", loss=\"categorical_crossentropy\", metrics=[\"accuracy\"])\n",
        "model.fit(tf_X_train, tf_Y_train, batch_size=batch_size, epochs=epochs, validation_split=validation_split, verbose=1)\n",
        "models[model.name] = model"
      ],
      "execution_count": null,
      "outputs": [
        {
          "output_type": "stream",
          "text": [
            "Model: \"2-layer_800HU\"\n",
            "_________________________________________________________________\n",
            "Layer (type)                 Output Shape              Param #   \n",
            "=================================================================\n",
            "layer1 (Dense)               (None, 28, 28, 800)       1600      \n",
            "_________________________________________________________________\n",
            "flatten (Flatten)            (None, 627200)            0         \n",
            "_________________________________________________________________\n",
            "output (Dense)               (None, 10)                6272010   \n",
            "=================================================================\n",
            "Total params: 6,273,610\n",
            "Trainable params: 6,273,610\n",
            "Non-trainable params: 0\n",
            "_________________________________________________________________\n",
            "Epoch 1/15\n",
            "422/422 [==============================] - 9s 21ms/step - loss: 0.3681 - accuracy: 0.8943 - val_loss: 0.2530 - val_accuracy: 0.9278\n",
            "Epoch 2/15\n",
            "422/422 [==============================] - 9s 21ms/step - loss: 0.3001 - accuracy: 0.9158 - val_loss: 0.2447 - val_accuracy: 0.9365\n",
            "Epoch 3/15\n",
            "422/422 [==============================] - 9s 21ms/step - loss: 0.2870 - accuracy: 0.9192 - val_loss: 0.2387 - val_accuracy: 0.9323\n",
            "Epoch 4/15\n",
            "422/422 [==============================] - 9s 21ms/step - loss: 0.2797 - accuracy: 0.9228 - val_loss: 0.2374 - val_accuracy: 0.9332\n",
            "Epoch 5/15\n",
            "422/422 [==============================] - 9s 21ms/step - loss: 0.2740 - accuracy: 0.9231 - val_loss: 0.2314 - val_accuracy: 0.9318\n",
            "Epoch 6/15\n",
            "422/422 [==============================] - 9s 21ms/step - loss: 0.2641 - accuracy: 0.9261 - val_loss: 0.2345 - val_accuracy: 0.9335\n",
            "Epoch 7/15\n",
            "422/422 [==============================] - 9s 21ms/step - loss: 0.2592 - accuracy: 0.9267 - val_loss: 0.2415 - val_accuracy: 0.9335\n",
            "Epoch 8/15\n",
            "422/422 [==============================] - 9s 21ms/step - loss: 0.2508 - accuracy: 0.9293 - val_loss: 0.2374 - val_accuracy: 0.9335\n",
            "Epoch 9/15\n",
            "422/422 [==============================] - 9s 21ms/step - loss: 0.2440 - accuracy: 0.9318 - val_loss: 0.2290 - val_accuracy: 0.9357\n",
            "Epoch 10/15\n",
            "422/422 [==============================] - 9s 21ms/step - loss: 0.2372 - accuracy: 0.9332 - val_loss: 0.2305 - val_accuracy: 0.9333\n",
            "Epoch 11/15\n",
            "422/422 [==============================] - 9s 21ms/step - loss: 0.2279 - accuracy: 0.9357 - val_loss: 0.2237 - val_accuracy: 0.9388\n",
            "Epoch 12/15\n",
            "422/422 [==============================] - 9s 21ms/step - loss: 0.2212 - accuracy: 0.9374 - val_loss: 0.2371 - val_accuracy: 0.9310\n",
            "Epoch 13/15\n",
            "422/422 [==============================] - 9s 21ms/step - loss: 0.2167 - accuracy: 0.9396 - val_loss: 0.2215 - val_accuracy: 0.9365\n",
            "Epoch 14/15\n",
            "422/422 [==============================] - 9s 21ms/step - loss: 0.2137 - accuracy: 0.9397 - val_loss: 0.2193 - val_accuracy: 0.9405\n",
            "Epoch 15/15\n",
            "422/422 [==============================] - 9s 21ms/step - loss: 0.2102 - accuracy: 0.9402 - val_loss: 0.2143 - val_accuracy: 0.9427\n"
          ],
          "name": "stdout"
        }
      ]
    },
    {
      "cell_type": "code",
      "metadata": {
        "id": "yqAhqpOozrQP",
        "colab": {
          "base_uri": "https://localhost:8080/"
        },
        "outputId": "e4b94e65-89fd-415e-b9d7-c2a5f2e67b75"
      },
      "source": [
        "model = keras.Sequential(\n",
        "    [\n",
        "     layers.Input(shape=input_shape),\n",
        "     layers.Dense(300, activation=\"relu\", name=\"layer1\"),\n",
        "     layers.Dense(100, activation=\"relu\", name=\"layer2\"),\n",
        "     layers.Flatten(name=\"flatten\"),\n",
        "     layers.Dense(num_classes, activation=\"softmax\", name=\"output\")\n",
        "    ],\n",
        "    name=\"3-layer_300_100HU\"\n",
        ")\n",
        "\n",
        "model.summary()\n",
        "\n",
        "model.compile(optimizer=\"adam\", loss=\"categorical_crossentropy\", metrics=[\"accuracy\"])\n",
        "model.fit(tf_X_train, tf_Y_train, batch_size=batch_size, epochs=epochs, validation_split=validation_split, verbose=1)\n",
        "models[model.name] = model"
      ],
      "execution_count": null,
      "outputs": [
        {
          "output_type": "stream",
          "text": [
            "Model: \"3-layer_300_100HU\"\n",
            "_________________________________________________________________\n",
            "Layer (type)                 Output Shape              Param #   \n",
            "=================================================================\n",
            "layer1 (Dense)               (None, 28, 28, 300)       600       \n",
            "_________________________________________________________________\n",
            "layer2 (Dense)               (None, 28, 28, 100)       30100     \n",
            "_________________________________________________________________\n",
            "flatten (Flatten)            (None, 78400)             0         \n",
            "_________________________________________________________________\n",
            "output (Dense)               (None, 10)                784010    \n",
            "=================================================================\n",
            "Total params: 814,710\n",
            "Trainable params: 814,710\n",
            "Non-trainable params: 0\n",
            "_________________________________________________________________\n",
            "Epoch 1/15\n",
            "422/422 [==============================] - 7s 16ms/step - loss: 0.3736 - accuracy: 0.8929 - val_loss: 0.2443 - val_accuracy: 0.9323\n",
            "Epoch 2/15\n",
            "422/422 [==============================] - 7s 16ms/step - loss: 0.2923 - accuracy: 0.9166 - val_loss: 0.2281 - val_accuracy: 0.9368\n",
            "Epoch 3/15\n",
            "422/422 [==============================] - 7s 16ms/step - loss: 0.2793 - accuracy: 0.9206 - val_loss: 0.2418 - val_accuracy: 0.9318\n",
            "Epoch 4/15\n",
            "422/422 [==============================] - 7s 16ms/step - loss: 0.2699 - accuracy: 0.9247 - val_loss: 0.2297 - val_accuracy: 0.9350\n",
            "Epoch 5/15\n",
            "422/422 [==============================] - 7s 16ms/step - loss: 0.2580 - accuracy: 0.9268 - val_loss: 0.2247 - val_accuracy: 0.9347\n",
            "Epoch 6/15\n",
            "422/422 [==============================] - 7s 16ms/step - loss: 0.2483 - accuracy: 0.9297 - val_loss: 0.2022 - val_accuracy: 0.9457\n",
            "Epoch 7/15\n",
            "422/422 [==============================] - 7s 16ms/step - loss: 0.2290 - accuracy: 0.9357 - val_loss: 0.2096 - val_accuracy: 0.9437\n",
            "Epoch 8/15\n",
            "422/422 [==============================] - 7s 16ms/step - loss: 0.2138 - accuracy: 0.9394 - val_loss: 0.2052 - val_accuracy: 0.9438\n",
            "Epoch 9/15\n",
            "422/422 [==============================] - 7s 16ms/step - loss: 0.1982 - accuracy: 0.9434 - val_loss: 0.2331 - val_accuracy: 0.9353\n",
            "Epoch 10/15\n",
            "422/422 [==============================] - 7s 16ms/step - loss: 0.1908 - accuracy: 0.9446 - val_loss: 0.2039 - val_accuracy: 0.9413\n",
            "Epoch 11/15\n",
            "422/422 [==============================] - 7s 16ms/step - loss: 0.1830 - accuracy: 0.9458 - val_loss: 0.2069 - val_accuracy: 0.9433\n",
            "Epoch 12/15\n",
            "422/422 [==============================] - 7s 16ms/step - loss: 0.1779 - accuracy: 0.9474 - val_loss: 0.2092 - val_accuracy: 0.9422\n",
            "Epoch 13/15\n",
            "422/422 [==============================] - 7s 16ms/step - loss: 0.1705 - accuracy: 0.9509 - val_loss: 0.2077 - val_accuracy: 0.9432\n",
            "Epoch 14/15\n",
            "422/422 [==============================] - 7s 16ms/step - loss: 0.1682 - accuracy: 0.9503 - val_loss: 0.2159 - val_accuracy: 0.9417\n",
            "Epoch 15/15\n",
            "422/422 [==============================] - 7s 16ms/step - loss: 0.1635 - accuracy: 0.9511 - val_loss: 0.2221 - val_accuracy: 0.9397\n"
          ],
          "name": "stdout"
        }
      ]
    },
    {
      "cell_type": "code",
      "metadata": {
        "colab": {
          "base_uri": "https://localhost:8080/"
        },
        "id": "TNyI7ByezYHR",
        "outputId": "ce631b84-4ee8-4864-c6c5-fae0f8b038ca"
      },
      "source": [
        "model = keras.Sequential(\n",
        "    [\n",
        "     layers.Input(shape=input_shape),\n",
        "     layers.Dense(900, activation=\"relu\", name=\"layer3\"),\n",
        "     layers.Dense(600, activation=\"relu\", name=\"layer4\"),\n",
        "     layers.Dense(300, activation=\"relu\", name=\"layer5\"),\n",
        "     layers.Flatten(name=\"flatten\"),\n",
        "     layers.Dense(num_classes, activation=\"softmax\", name=\"output\")\n",
        "    ],\n",
        "    name=\"4-layer_900_600_300HU\"\n",
        ")\n",
        "\n",
        "model.summary()\n",
        "\n",
        "model.compile(optimizer=\"adam\", loss=\"categorical_crossentropy\", metrics=[\"accuracy\"])\n",
        "model.fit(tf_X_train, tf_Y_train, batch_size=batch_size, epochs=epochs, validation_split=validation_split, verbose=1)\n",
        "models[model.name] = model"
      ],
      "execution_count": null,
      "outputs": [
        {
          "output_type": "stream",
          "text": [
            "Model: \"4-layer_900_600_300HU\"\n",
            "_________________________________________________________________\n",
            "Layer (type)                 Output Shape              Param #   \n",
            "=================================================================\n",
            "layer3 (Dense)               (None, 28, 28, 900)       1800      \n",
            "_________________________________________________________________\n",
            "layer4 (Dense)               (None, 28, 28, 600)       540600    \n",
            "_________________________________________________________________\n",
            "layer5 (Dense)               (None, 28, 28, 300)       180300    \n",
            "_________________________________________________________________\n",
            "flatten (Flatten)            (None, 235200)            0         \n",
            "_________________________________________________________________\n",
            "output (Dense)               (None, 10)                2352010   \n",
            "=================================================================\n",
            "Total params: 3,074,710\n",
            "Trainable params: 3,074,710\n",
            "Non-trainable params: 0\n",
            "_________________________________________________________________\n",
            "Epoch 1/15\n",
            "422/422 [==============================] - 41s 97ms/step - loss: 0.3686 - accuracy: 0.8951 - val_loss: 0.2437 - val_accuracy: 0.9313\n",
            "Epoch 2/15\n",
            "422/422 [==============================] - 41s 96ms/step - loss: 0.2945 - accuracy: 0.9167 - val_loss: 0.2314 - val_accuracy: 0.9372\n",
            "Epoch 3/15\n",
            "422/422 [==============================] - 41s 96ms/step - loss: 0.2800 - accuracy: 0.9215 - val_loss: 0.2258 - val_accuracy: 0.9330\n",
            "Epoch 4/15\n",
            "422/422 [==============================] - 41s 97ms/step - loss: 0.2528 - accuracy: 0.9285 - val_loss: 0.2176 - val_accuracy: 0.9377\n",
            "Epoch 5/15\n",
            "422/422 [==============================] - 41s 96ms/step - loss: 0.2238 - accuracy: 0.9368 - val_loss: 0.2062 - val_accuracy: 0.9435\n",
            "Epoch 6/15\n",
            "422/422 [==============================] - 41s 96ms/step - loss: 0.2079 - accuracy: 0.9412 - val_loss: 0.2103 - val_accuracy: 0.9405\n",
            "Epoch 7/15\n",
            "422/422 [==============================] - 41s 97ms/step - loss: 0.1935 - accuracy: 0.9433 - val_loss: 0.2204 - val_accuracy: 0.9357\n",
            "Epoch 8/15\n",
            "422/422 [==============================] - 41s 97ms/step - loss: 0.1888 - accuracy: 0.9437 - val_loss: 0.2140 - val_accuracy: 0.9375\n",
            "Epoch 9/15\n",
            "422/422 [==============================] - 41s 97ms/step - loss: 0.1778 - accuracy: 0.9473 - val_loss: 0.2455 - val_accuracy: 0.9308\n",
            "Epoch 10/15\n",
            "422/422 [==============================] - 41s 97ms/step - loss: 0.1711 - accuracy: 0.9490 - val_loss: 0.2345 - val_accuracy: 0.9382\n",
            "Epoch 11/15\n",
            "422/422 [==============================] - 41s 97ms/step - loss: 0.1603 - accuracy: 0.9521 - val_loss: 0.2797 - val_accuracy: 0.9183\n",
            "Epoch 12/15\n",
            "422/422 [==============================] - 41s 97ms/step - loss: 0.1483 - accuracy: 0.9551 - val_loss: 0.2271 - val_accuracy: 0.9400\n",
            "Epoch 13/15\n",
            "422/422 [==============================] - 41s 97ms/step - loss: 0.1385 - accuracy: 0.9587 - val_loss: 0.2467 - val_accuracy: 0.9343\n",
            "Epoch 14/15\n",
            "422/422 [==============================] - 41s 97ms/step - loss: 0.1284 - accuracy: 0.9595 - val_loss: 0.2399 - val_accuracy: 0.9360\n",
            "Epoch 15/15\n",
            "422/422 [==============================] - 41s 97ms/step - loss: 0.1208 - accuracy: 0.9618 - val_loss: 0.2689 - val_accuracy: 0.9307\n"
          ],
          "name": "stdout"
        }
      ]
    },
    {
      "cell_type": "code",
      "metadata": {
        "id": "V5rbq9iWxmYK",
        "colab": {
          "base_uri": "https://localhost:8080/"
        },
        "outputId": "44251b60-16b3-4d02-83cf-6d23aed6ec00"
      },
      "source": [
        "model = keras.Sequential(\n",
        "    [\n",
        "     layers.Input(shape=input_shape),\n",
        "     layers.Conv2D(16, kernel_size=(3, 3), activation=\"relu\"), # 3x3 kernel with 16 features\n",
        "     layers.MaxPooling2D(pool_size=(2, 2)), # 2x2 pooling\n",
        "     layers.Flatten(name=\"flatten\"),\n",
        "     layers.Dense(num_classes, activation=\"softmax\", name=\"output\")\n",
        "    ],\n",
        "    name=\"Conv2D\"\n",
        ")\n",
        "\n",
        "model.summary()\n",
        "\n",
        "model.compile(optimizer=\"adam\", loss=\"categorical_crossentropy\", metrics=[\"accuracy\"])\n",
        "model.fit(tf_X_train, tf_Y_train, batch_size=batch_size, epochs=epochs, validation_split=validation_split, verbose=1)\n",
        "models[model.name] = model"
      ],
      "execution_count": null,
      "outputs": [
        {
          "output_type": "stream",
          "text": [
            "Model: \"Conv2D\"\n",
            "_________________________________________________________________\n",
            "Layer (type)                 Output Shape              Param #   \n",
            "=================================================================\n",
            "conv2d (Conv2D)              (None, 26, 26, 16)        160       \n",
            "_________________________________________________________________\n",
            "max_pooling2d (MaxPooling2D) (None, 13, 13, 16)        0         \n",
            "_________________________________________________________________\n",
            "flatten (Flatten)            (None, 2704)              0         \n",
            "_________________________________________________________________\n",
            "output (Dense)               (None, 10)                27050     \n",
            "=================================================================\n",
            "Total params: 27,210\n",
            "Trainable params: 27,210\n",
            "Non-trainable params: 0\n",
            "_________________________________________________________________\n",
            "Epoch 1/15\n",
            "422/422 [==============================] - 1s 3ms/step - loss: 0.4386 - accuracy: 0.8926 - val_loss: 0.1418 - val_accuracy: 0.9633\n",
            "Epoch 2/15\n",
            "422/422 [==============================] - 1s 3ms/step - loss: 0.1376 - accuracy: 0.9614 - val_loss: 0.0955 - val_accuracy: 0.9753\n",
            "Epoch 3/15\n",
            "422/422 [==============================] - 1s 3ms/step - loss: 0.0975 - accuracy: 0.9729 - val_loss: 0.0787 - val_accuracy: 0.9793\n",
            "Epoch 4/15\n",
            "422/422 [==============================] - 1s 3ms/step - loss: 0.0779 - accuracy: 0.9779 - val_loss: 0.0698 - val_accuracy: 0.9812\n",
            "Epoch 5/15\n",
            "422/422 [==============================] - 1s 3ms/step - loss: 0.0675 - accuracy: 0.9809 - val_loss: 0.0633 - val_accuracy: 0.9838\n",
            "Epoch 6/15\n",
            "422/422 [==============================] - 1s 3ms/step - loss: 0.0608 - accuracy: 0.9823 - val_loss: 0.0605 - val_accuracy: 0.9830\n",
            "Epoch 7/15\n",
            "422/422 [==============================] - 1s 3ms/step - loss: 0.0548 - accuracy: 0.9841 - val_loss: 0.0574 - val_accuracy: 0.9848\n",
            "Epoch 8/15\n",
            "422/422 [==============================] - 1s 3ms/step - loss: 0.0501 - accuracy: 0.9856 - val_loss: 0.0584 - val_accuracy: 0.9830\n",
            "Epoch 9/15\n",
            "422/422 [==============================] - 1s 3ms/step - loss: 0.0471 - accuracy: 0.9859 - val_loss: 0.0586 - val_accuracy: 0.9853\n",
            "Epoch 10/15\n",
            "422/422 [==============================] - 1s 3ms/step - loss: 0.0437 - accuracy: 0.9869 - val_loss: 0.0608 - val_accuracy: 0.9835\n",
            "Epoch 11/15\n",
            "422/422 [==============================] - 1s 3ms/step - loss: 0.0411 - accuracy: 0.9884 - val_loss: 0.0573 - val_accuracy: 0.9850\n",
            "Epoch 12/15\n",
            "422/422 [==============================] - 1s 3ms/step - loss: 0.0384 - accuracy: 0.9887 - val_loss: 0.0557 - val_accuracy: 0.9862\n",
            "Epoch 13/15\n",
            "422/422 [==============================] - 1s 3ms/step - loss: 0.0356 - accuracy: 0.9900 - val_loss: 0.0561 - val_accuracy: 0.9862\n",
            "Epoch 14/15\n",
            "422/422 [==============================] - 1s 3ms/step - loss: 0.0339 - accuracy: 0.9905 - val_loss: 0.0563 - val_accuracy: 0.9868\n",
            "Epoch 15/15\n",
            "422/422 [==============================] - 1s 3ms/step - loss: 0.0315 - accuracy: 0.9907 - val_loss: 0.0576 - val_accuracy: 0.9855\n"
          ],
          "name": "stdout"
        }
      ]
    },
    {
      "cell_type": "code",
      "metadata": {
        "id": "EX2QGUH3vbWe",
        "colab": {
          "base_uri": "https://localhost:8080/"
        },
        "outputId": "4297a39b-96fb-4e1d-a578-045ae5209de8"
      },
      "source": [
        "for (name, model) in models.items():\n",
        "  (loss, accuracy) = model.evaluate(tf_x_test, tf_y_test, verbose=0) # evaluate with test set\n",
        "  print(\"Model:\", name)\n",
        "  print(\"  Loss: %.4f\" % loss)\n",
        "  print(\"  Accuracy: %.4f\" % accuracy)"
      ],
      "execution_count": null,
      "outputs": [
        {
          "output_type": "stream",
          "text": [
            "Model: 2-layer_300HU\n",
            "  Loss: 0.2779\n",
            "  Accuracy: 0.9259\n",
            "Model: 2-layer_800HU\n",
            "  Loss: 0.2581\n",
            "  Accuracy: 0.9325\n",
            "Model: 3-layer_300_100HU\n",
            "  Loss: 0.2699\n",
            "  Accuracy: 0.9303\n",
            "Model: Conv2D\n",
            "  Loss: 0.0549\n",
            "  Accuracy: 0.9821\n",
            "Model: 4-layer_900_600_300HU\n",
            "  Loss: 0.3331\n",
            "  Accuracy: 0.9140\n"
          ],
          "name": "stdout"
        }
      ]
    },
    {
      "cell_type": "markdown",
      "metadata": {
        "id": "O7NDZmrFnTvv"
      },
      "source": [
        "### Grid Search"
      ]
    },
    {
      "cell_type": "code",
      "metadata": {
        "id": "FLqK2WDQnWX4"
      },
      "source": [
        "from keras.wrappers.scikit_learn import KerasClassifier\n",
        "\n",
        "def build_model(units=300, activation=\"relu\", optimizer=\"adam\", visible_dropout=0, hidden_dropout=0):\n",
        "  model = keras.Sequential(\n",
        "      [\n",
        "       layers.Input(shape=input_shape),\n",
        "       layers.Dropout(visible_dropout),\n",
        "       layers.Dense(units, activation=activation),\n",
        "       layers.Dropout(hidden_dropout),\n",
        "       layers.Flatten(),\n",
        "       layers.Dense(num_classes, activation=\"softmax\")\n",
        "      ]\n",
        "  )\n",
        "  model.compile(optimizer=optimizer, loss=\"categorical_crossentropy\", metrics=[\"accuracy\"])\n",
        "  return model"
      ],
      "execution_count": null,
      "outputs": []
    },
    {
      "cell_type": "code",
      "metadata": {
        "id": "xZvn6-1kwW8C"
      },
      "source": [
        "from sklearn.model_selection import GridSearchCV\n",
        "\n",
        "def grid_search(base_model, param_grid):\n",
        "  grid = GridSearchCV(estimator=base_model, param_grid=param_grid, n_jobs=-1, cv=3)\n",
        "  best_model = grid.fit(tf_X_train, tf_Y_train)\n",
        "  print(\"Best params:\", best_model.best_params_)\n",
        "  print(\"Score:\", best_model.best_score_)\n",
        "  return best_model"
      ],
      "execution_count": null,
      "outputs": []
    },
    {
      "cell_type": "code",
      "metadata": {
        "colab": {
          "base_uri": "https://localhost:8080/"
        },
        "id": "O49rc9iGoNGR",
        "outputId": "fafc080d-239e-4fb6-c067-14cfa52f5a11"
      },
      "source": [
        "batch_size = [64, 128, 256]\n",
        "epochs = [10, 15, 20]\n",
        "\n",
        "base_model = KerasClassifier(build_fn=build_model)\n",
        "param_grid = dict(batch_size=batch_size, epochs=epochs)\n",
        "grid_search(base_model, param_grid)"
      ],
      "execution_count": null,
      "outputs": [
        {
          "output_type": "stream",
          "text": [
            "/usr/local/lib/python3.6/dist-packages/joblib/externals/loky/process_executor.py:691: UserWarning: A worker stopped while some jobs were given to the executor. This can be caused by a too short worker timeout or by a memory leak.\n",
            "  \"timeout or by a memory leak.\", UserWarning\n"
          ],
          "name": "stderr"
        },
        {
          "output_type": "stream",
          "text": [
            "Epoch 1/15\n",
            "938/938 [==============================] - 6s 7ms/step - loss: 0.0585 - accuracy: 0.8999\n",
            "Epoch 2/15\n",
            "938/938 [==============================] - 6s 7ms/step - loss: 0.0495 - accuracy: 0.9175\n",
            "Epoch 3/15\n",
            "938/938 [==============================] - 6s 7ms/step - loss: 0.0472 - accuracy: 0.9234\n",
            "Epoch 4/15\n",
            "938/938 [==============================] - 6s 7ms/step - loss: 0.0459 - accuracy: 0.9260\n",
            "Epoch 5/15\n",
            "938/938 [==============================] - 6s 7ms/step - loss: 0.0447 - accuracy: 0.9277\n",
            "Epoch 6/15\n",
            "938/938 [==============================] - 6s 7ms/step - loss: 0.0434 - accuracy: 0.9297\n",
            "Epoch 7/15\n",
            "938/938 [==============================] - 6s 7ms/step - loss: 0.0426 - accuracy: 0.9316\n",
            "Epoch 8/15\n",
            "938/938 [==============================] - 6s 7ms/step - loss: 0.0412 - accuracy: 0.9338\n",
            "Epoch 9/15\n",
            "938/938 [==============================] - 6s 7ms/step - loss: 0.0400 - accuracy: 0.9359\n",
            "Epoch 10/15\n",
            "938/938 [==============================] - 6s 7ms/step - loss: 0.0389 - accuracy: 0.9373\n",
            "Epoch 11/15\n",
            "938/938 [==============================] - 6s 7ms/step - loss: 0.0379 - accuracy: 0.9387\n",
            "Epoch 12/15\n",
            "938/938 [==============================] - 6s 7ms/step - loss: 0.0370 - accuracy: 0.9406\n",
            "Epoch 13/15\n",
            "938/938 [==============================] - 6s 7ms/step - loss: 0.0361 - accuracy: 0.9424\n",
            "Epoch 14/15\n",
            "938/938 [==============================] - 6s 7ms/step - loss: 0.0356 - accuracy: 0.9428\n",
            "Epoch 15/15\n",
            "938/938 [==============================] - 6s 7ms/step - loss: 0.0350 - accuracy: 0.9435\n",
            "Best params: {'batch_size': 64, 'epochs': 15}\n",
            "Score: 0.9259000023206075\n"
          ],
          "name": "stdout"
        }
      ]
    },
    {
      "cell_type": "code",
      "metadata": {
        "colab": {
          "base_uri": "https://localhost:8080/"
        },
        "id": "bEKe-ic9wcTo",
        "outputId": "dce8efcc-2027-4b42-cf9b-d64683cf8c34"
      },
      "source": [
        "optimizer = [\"sgd\", \"adam\", \"adagrad\", \"adadelta\"]\n",
        "\n",
        "base_model = KerasClassifier(build_fn=build_model, batch_size=64, epochs=15)\n",
        "param_grid = dict(optimizer=optimizer)\n",
        "grid_search(base_model, param_grid)"
      ],
      "execution_count": null,
      "outputs": [
        {
          "output_type": "stream",
          "text": [
            "/usr/local/lib/python3.6/dist-packages/joblib/externals/loky/process_executor.py:691: UserWarning: A worker stopped while some jobs were given to the executor. This can be caused by a too short worker timeout or by a memory leak.\n",
            "  \"timeout or by a memory leak.\", UserWarning\n"
          ],
          "name": "stderr"
        },
        {
          "output_type": "stream",
          "text": [
            "Epoch 1/15\n",
            "938/938 [==============================] - 6s 7ms/step - loss: 0.0590 - accuracy: 0.8987\n",
            "Epoch 2/15\n",
            "938/938 [==============================] - 6s 7ms/step - loss: 0.0493 - accuracy: 0.9187\n",
            "Epoch 3/15\n",
            "938/938 [==============================] - 6s 7ms/step - loss: 0.0472 - accuracy: 0.9228\n",
            "Epoch 4/15\n",
            "938/938 [==============================] - 6s 7ms/step - loss: 0.0461 - accuracy: 0.9243\n",
            "Epoch 5/15\n",
            "938/938 [==============================] - 6s 7ms/step - loss: 0.0445 - accuracy: 0.9282\n",
            "Epoch 6/15\n",
            "938/938 [==============================] - 6s 7ms/step - loss: 0.0440 - accuracy: 0.9291\n",
            "Epoch 7/15\n",
            "938/938 [==============================] - 6s 7ms/step - loss: 0.0425 - accuracy: 0.9316\n",
            "Epoch 8/15\n",
            "938/938 [==============================] - 6s 7ms/step - loss: 0.0415 - accuracy: 0.9334\n",
            "Epoch 9/15\n",
            "938/938 [==============================] - 6s 7ms/step - loss: 0.0400 - accuracy: 0.9349\n",
            "Epoch 10/15\n",
            "938/938 [==============================] - 6s 7ms/step - loss: 0.0388 - accuracy: 0.9375\n",
            "Epoch 11/15\n",
            "938/938 [==============================] - 6s 7ms/step - loss: 0.0377 - accuracy: 0.9392\n",
            "Epoch 12/15\n",
            "938/938 [==============================] - 6s 7ms/step - loss: 0.0370 - accuracy: 0.9406\n",
            "Epoch 13/15\n",
            "938/938 [==============================] - 6s 7ms/step - loss: 0.0358 - accuracy: 0.9423\n",
            "Epoch 14/15\n",
            "938/938 [==============================] - 6s 7ms/step - loss: 0.0350 - accuracy: 0.9441\n",
            "Epoch 15/15\n",
            "938/938 [==============================] - 6s 7ms/step - loss: 0.0344 - accuracy: 0.9450\n",
            "Best params: {'optimizer': 'adam'}\n",
            "Score: 0.9241666793823242\n"
          ],
          "name": "stdout"
        }
      ]
    },
    {
      "cell_type": "code",
      "metadata": {
        "colab": {
          "base_uri": "https://localhost:8080/"
        },
        "id": "d10pf7JExc7n",
        "outputId": "7e561831-9377-43e4-f2cb-297d28aff5c8"
      },
      "source": [
        "activation = [\"relu\", \"linear\", \"sigmoid\"]\n",
        "\n",
        "base_model = KerasClassifier(build_fn=build_model, batch_size=64, epochs=15)\n",
        "param_grid = dict(activation=activation)\n",
        "grid_search(base_model, param_grid)"
      ],
      "execution_count": null,
      "outputs": [
        {
          "output_type": "stream",
          "text": [
            "Epoch 1/15\n",
            "938/938 [==============================] - 6s 7ms/step - loss: 0.0581 - accuracy: 0.9001\n",
            "Epoch 2/15\n",
            "938/938 [==============================] - 6s 7ms/step - loss: 0.0490 - accuracy: 0.9198\n",
            "Epoch 3/15\n",
            "938/938 [==============================] - 6s 7ms/step - loss: 0.0469 - accuracy: 0.9235\n",
            "Epoch 4/15\n",
            "938/938 [==============================] - 6s 7ms/step - loss: 0.0454 - accuracy: 0.9257\n",
            "Epoch 5/15\n",
            "938/938 [==============================] - 6s 6ms/step - loss: 0.0440 - accuracy: 0.9281\n",
            "Epoch 6/15\n",
            "938/938 [==============================] - 6s 7ms/step - loss: 0.0426 - accuracy: 0.9313\n",
            "Epoch 7/15\n",
            "938/938 [==============================] - 6s 6ms/step - loss: 0.0405 - accuracy: 0.9346\n",
            "Epoch 8/15\n",
            "938/938 [==============================] - 6s 6ms/step - loss: 0.0391 - accuracy: 0.9370\n",
            "Epoch 9/15\n",
            "938/938 [==============================] - 6s 7ms/step - loss: 0.0375 - accuracy: 0.9396\n",
            "Epoch 10/15\n",
            "938/938 [==============================] - 6s 7ms/step - loss: 0.0362 - accuracy: 0.9413\n",
            "Epoch 11/15\n",
            "938/938 [==============================] - 6s 6ms/step - loss: 0.0350 - accuracy: 0.9430\n",
            "Epoch 12/15\n",
            "938/938 [==============================] - 6s 7ms/step - loss: 0.0341 - accuracy: 0.9441\n",
            "Epoch 13/15\n",
            "938/938 [==============================] - 6s 7ms/step - loss: 0.0332 - accuracy: 0.9467\n",
            "Epoch 14/15\n",
            "938/938 [==============================] - 6s 7ms/step - loss: 0.0326 - accuracy: 0.9470\n",
            "Epoch 15/15\n",
            "938/938 [==============================] - 6s 6ms/step - loss: 0.0323 - accuracy: 0.9472\n",
            "Best params: {'activation': 'relu'}\n",
            "Score: 0.9246833125750223\n"
          ],
          "name": "stdout"
        }
      ]
    },
    {
      "cell_type": "code",
      "metadata": {
        "colab": {
          "base_uri": "https://localhost:8080/"
        },
        "id": "g5eYD259yvsv",
        "outputId": "ee8c2574-b9f6-45a3-b515-6c1f9addef32"
      },
      "source": [
        "units = [300, 1500, 3000]\n",
        "\n",
        "base_model = KerasClassifier(build_fn=build_model, batch_size=64, epochs=15)\n",
        "param_grid = dict(units=units)\n",
        "grid_search(base_model, param_grid)"
      ],
      "execution_count": null,
      "outputs": [
        {
          "output_type": "stream",
          "text": [
            "/usr/local/lib/python3.6/dist-packages/joblib/externals/loky/process_executor.py:691: UserWarning: A worker stopped while some jobs were given to the executor. This can be caused by a too short worker timeout or by a memory leak.\n",
            "  \"timeout or by a memory leak.\", UserWarning\n"
          ],
          "name": "stderr"
        },
        {
          "output_type": "stream",
          "text": [
            "Epoch 1/15\n",
            "938/938 [==============================] - 43s 46ms/step - loss: 0.0610 - accuracy: 0.8960\n",
            "Epoch 2/15\n",
            "938/938 [==============================] - 43s 46ms/step - loss: 0.0510 - accuracy: 0.9156\n",
            "Epoch 3/15\n",
            "938/938 [==============================] - 43s 46ms/step - loss: 0.0484 - accuracy: 0.9207\n",
            "Epoch 4/15\n",
            "938/938 [==============================] - 43s 46ms/step - loss: 0.0462 - accuracy: 0.9247\n",
            "Epoch 5/15\n",
            "938/938 [==============================] - 43s 46ms/step - loss: 0.0448 - accuracy: 0.9270\n",
            "Epoch 6/15\n",
            "938/938 [==============================] - 43s 46ms/step - loss: 0.0432 - accuracy: 0.9300\n",
            "Epoch 7/15\n",
            "938/938 [==============================] - 43s 46ms/step - loss: 0.0416 - accuracy: 0.9318\n",
            "Epoch 8/15\n",
            "938/938 [==============================] - 43s 46ms/step - loss: 0.0394 - accuracy: 0.9362\n",
            "Epoch 9/15\n",
            "938/938 [==============================] - 43s 46ms/step - loss: 0.0375 - accuracy: 0.9393\n",
            "Epoch 10/15\n",
            "938/938 [==============================] - 43s 46ms/step - loss: 0.0358 - accuracy: 0.9421\n",
            "Epoch 11/15\n",
            "938/938 [==============================] - 43s 45ms/step - loss: 0.0350 - accuracy: 0.9428\n",
            "Epoch 12/15\n",
            "938/938 [==============================] - 43s 46ms/step - loss: 0.0345 - accuracy: 0.9438\n",
            "Epoch 13/15\n",
            "938/938 [==============================] - 43s 45ms/step - loss: 0.0333 - accuracy: 0.9467\n",
            "Epoch 14/15\n",
            "938/938 [==============================] - 43s 46ms/step - loss: 0.0326 - accuracy: 0.9475\n",
            "Epoch 15/15\n",
            "938/938 [==============================] - 43s 46ms/step - loss: 0.0318 - accuracy: 0.9486\n",
            "Best params: {'units': 3000}\n",
            "Score: 0.9258166551589966\n"
          ],
          "name": "stdout"
        }
      ]
    },
    {
      "cell_type": "code",
      "metadata": {
        "colab": {
          "base_uri": "https://localhost:8080/"
        },
        "id": "Ci4UK2BVJCQP",
        "outputId": "5ffb7a8a-29a1-421a-d02e-551c37a79589"
      },
      "source": [
        "units = [300, 600]\n",
        "\n",
        "base_model = KerasClassifier(build_fn=build_model, batch_size=64, epochs=15)\n",
        "param_grid = dict(units=units)\n",
        "grid_search(base_model, param_grid)"
      ],
      "execution_count": null,
      "outputs": [
        {
          "output_type": "stream",
          "text": [
            "Epoch 1/15\n",
            "938/938 [==============================] - 8s 8ms/step - loss: 0.0594 - accuracy: 0.8989\n",
            "Epoch 2/15\n",
            "938/938 [==============================] - 8s 8ms/step - loss: 0.0491 - accuracy: 0.9202\n",
            "Epoch 3/15\n",
            "938/938 [==============================] - 8s 8ms/step - loss: 0.0469 - accuracy: 0.9231\n",
            "Epoch 4/15\n",
            "938/938 [==============================] - 8s 8ms/step - loss: 0.0458 - accuracy: 0.9261\n",
            "Epoch 5/15\n",
            "938/938 [==============================] - 8s 8ms/step - loss: 0.0448 - accuracy: 0.9277\n",
            "Epoch 6/15\n",
            "938/938 [==============================] - 8s 8ms/step - loss: 0.0436 - accuracy: 0.9291\n",
            "Epoch 7/15\n",
            "938/938 [==============================] - 8s 8ms/step - loss: 0.0426 - accuracy: 0.9316\n",
            "Epoch 8/15\n",
            "938/938 [==============================] - 8s 8ms/step - loss: 0.0411 - accuracy: 0.9336\n",
            "Epoch 9/15\n",
            "938/938 [==============================] - 8s 8ms/step - loss: 0.0400 - accuracy: 0.9358\n",
            "Epoch 10/15\n",
            "938/938 [==============================] - 8s 8ms/step - loss: 0.0389 - accuracy: 0.9379\n",
            "Epoch 11/15\n",
            "938/938 [==============================] - 8s 8ms/step - loss: 0.0378 - accuracy: 0.9392\n",
            "Epoch 12/15\n",
            "938/938 [==============================] - 8s 8ms/step - loss: 0.0372 - accuracy: 0.9412\n",
            "Epoch 13/15\n",
            "938/938 [==============================] - 8s 8ms/step - loss: 0.0363 - accuracy: 0.9416\n",
            "Epoch 14/15\n",
            "938/938 [==============================] - 8s 8ms/step - loss: 0.0353 - accuracy: 0.9434\n",
            "Epoch 15/15\n",
            "938/938 [==============================] - 8s 8ms/step - loss: 0.0350 - accuracy: 0.9446\n",
            "Best params: {'units': 300}\n",
            "Score: 0.9259166518847147\n"
          ],
          "name": "stdout"
        }
      ]
    },
    {
      "cell_type": "code",
      "metadata": {
        "colab": {
          "base_uri": "https://localhost:8080/"
        },
        "id": "dC8EXFY10MA2",
        "outputId": "9a0ff0be-7d5a-459d-d8f4-76a68e9a7b1f"
      },
      "source": [
        "visible_dropout = [0, 0.1]\n",
        "hidden_dropout = [0, 0.1]\n",
        "\n",
        "base_model = KerasClassifier(build_fn=build_model, batch_size=64, epochs=15)\n",
        "param_grid = dict(visible_dropout=visible_dropout, hidden_dropout=hidden_dropout)\n",
        "grid_search(base_model, param_grid)"
      ],
      "execution_count": null,
      "outputs": [
        {
          "output_type": "stream",
          "text": [
            "/usr/local/lib/python3.6/dist-packages/joblib/externals/loky/process_executor.py:691: UserWarning: A worker stopped while some jobs were given to the executor. This can be caused by a too short worker timeout or by a memory leak.\n",
            "  \"timeout or by a memory leak.\", UserWarning\n"
          ],
          "name": "stderr"
        },
        {
          "output_type": "stream",
          "text": [
            "Epoch 1/15\n",
            "938/938 [==============================] - 8s 9ms/step - loss: 0.3529 - accuracy: 0.8989\n",
            "Epoch 2/15\n",
            "938/938 [==============================] - 8s 9ms/step - loss: 0.2927 - accuracy: 0.9185\n",
            "Epoch 3/15\n",
            "938/938 [==============================] - 8s 8ms/step - loss: 0.2804 - accuracy: 0.9210\n",
            "Epoch 4/15\n",
            "938/938 [==============================] - 8s 8ms/step - loss: 0.2739 - accuracy: 0.9236\n",
            "Epoch 5/15\n",
            "938/938 [==============================] - 8s 8ms/step - loss: 0.2669 - accuracy: 0.9254\n",
            "Epoch 6/15\n",
            "938/938 [==============================] - 8s 8ms/step - loss: 0.2593 - accuracy: 0.9273\n",
            "Epoch 7/15\n",
            "938/938 [==============================] - 8s 8ms/step - loss: 0.2526 - accuracy: 0.9297\n",
            "Epoch 8/15\n",
            "938/938 [==============================] - 8s 8ms/step - loss: 0.2424 - accuracy: 0.9327\n",
            "Epoch 9/15\n",
            "938/938 [==============================] - 8s 8ms/step - loss: 0.2369 - accuracy: 0.9340\n",
            "Epoch 10/15\n",
            "938/938 [==============================] - 8s 8ms/step - loss: 0.2296 - accuracy: 0.9351\n",
            "Epoch 11/15\n",
            "938/938 [==============================] - 8s 9ms/step - loss: 0.2221 - accuracy: 0.9381\n",
            "Epoch 12/15\n",
            "938/938 [==============================] - 8s 8ms/step - loss: 0.2180 - accuracy: 0.9387\n",
            "Epoch 13/15\n",
            "938/938 [==============================] - 8s 8ms/step - loss: 0.2119 - accuracy: 0.9400\n",
            "Epoch 14/15\n",
            "938/938 [==============================] - 8s 8ms/step - loss: 0.2072 - accuracy: 0.9415\n",
            "Epoch 15/15\n",
            "938/938 [==============================] - 8s 8ms/step - loss: 0.2022 - accuracy: 0.9428\n",
            "Best params: {'hidden_dropout': 0, 'visible_dropout': 0}\n",
            "Score: 0.922166665395101\n"
          ],
          "name": "stdout"
        },
        {
          "output_type": "execute_result",
          "data": {
            "text/plain": [
              "GridSearchCV(cv=3, error_score=nan,\n",
              "             estimator=<tensorflow.python.keras.wrappers.scikit_learn.KerasClassifier object at 0x7f7c4018f128>,\n",
              "             iid='deprecated', n_jobs=-1,\n",
              "             param_grid={'hidden_dropout': [0, 0.1],\n",
              "                         'visible_dropout': [0, 0.1]},\n",
              "             pre_dispatch='2*n_jobs', refit=True, return_train_score=False,\n",
              "             scoring=None, verbose=0)"
            ]
          },
          "metadata": {
            "tags": []
          },
          "execution_count": 15
        }
      ]
    },
    {
      "cell_type": "markdown",
      "metadata": {
        "id": "qfXp6RxiSHbO"
      },
      "source": [
        "### Building a model"
      ]
    },
    {
      "cell_type": "code",
      "metadata": {
        "id": "NpRwefrZXbwA"
      },
      "source": [
        "batch_size = 64\n",
        "epochs = 15\n",
        "validation_split = 0.1\n",
        "\n",
        "models = {}"
      ],
      "execution_count": null,
      "outputs": []
    },
    {
      "cell_type": "code",
      "metadata": {
        "colab": {
          "base_uri": "https://localhost:8080/"
        },
        "id": "5HPuvEsmW7kQ",
        "outputId": "a7a3c9cf-1634-4ad7-8e27-bcbf0e6d506d"
      },
      "source": [
        "model = keras.Sequential(\n",
        "    [\n",
        "     layers.Input(shape=input_shape),\n",
        "     layers.Dense(300, activation=\"relu\"),\n",
        "     layers.Flatten(),\n",
        "     layers.Dense(num_classes, activation=\"softmax\")\n",
        "    ]\n",
        ")\n",
        "model.compile(optimizer=\"adam\", loss=\"categorical_crossentropy\", metrics=[\"accuracy\"])\n",
        "history = model.fit(tf_X_train, tf_Y_train, batch_size=batch_size, epochs=epochs, validation_split=validation_split, verbose=1)\n",
        "test = model.evaluate(tf_x_test, tf_y_test, verbose=0)\n",
        "models['300 HU'] = dict(model=model, history=history, test=test)"
      ],
      "execution_count": null,
      "outputs": [
        {
          "output_type": "stream",
          "text": [
            "Epoch 1/15\n",
            "844/844 [==============================] - 6s 7ms/step - loss: 0.3616 - accuracy: 0.8950 - val_loss: 0.2611 - val_accuracy: 0.9272\n",
            "Epoch 2/15\n",
            "844/844 [==============================] - 6s 7ms/step - loss: 0.3015 - accuracy: 0.9150 - val_loss: 0.2427 - val_accuracy: 0.9332\n",
            "Epoch 3/15\n",
            "844/844 [==============================] - 6s 7ms/step - loss: 0.2874 - accuracy: 0.9187 - val_loss: 0.2592 - val_accuracy: 0.9270\n",
            "Epoch 4/15\n",
            "844/844 [==============================] - 6s 7ms/step - loss: 0.2786 - accuracy: 0.9217 - val_loss: 0.2371 - val_accuracy: 0.9330\n",
            "Epoch 5/15\n",
            "844/844 [==============================] - 6s 7ms/step - loss: 0.2697 - accuracy: 0.9244 - val_loss: 0.2379 - val_accuracy: 0.9337\n",
            "Epoch 6/15\n",
            "844/844 [==============================] - 6s 7ms/step - loss: 0.2601 - accuracy: 0.9275 - val_loss: 0.2377 - val_accuracy: 0.9357\n",
            "Epoch 7/15\n",
            "844/844 [==============================] - 6s 7ms/step - loss: 0.2517 - accuracy: 0.9296 - val_loss: 0.2319 - val_accuracy: 0.9355\n",
            "Epoch 8/15\n",
            "844/844 [==============================] - 6s 7ms/step - loss: 0.2423 - accuracy: 0.9322 - val_loss: 0.2253 - val_accuracy: 0.9397\n",
            "Epoch 9/15\n",
            "844/844 [==============================] - 6s 7ms/step - loss: 0.2339 - accuracy: 0.9347 - val_loss: 0.2245 - val_accuracy: 0.9395\n",
            "Epoch 10/15\n",
            "844/844 [==============================] - 6s 7ms/step - loss: 0.2262 - accuracy: 0.9362 - val_loss: 0.2125 - val_accuracy: 0.9418\n",
            "Epoch 11/15\n",
            "844/844 [==============================] - 6s 7ms/step - loss: 0.2178 - accuracy: 0.9386 - val_loss: 0.2339 - val_accuracy: 0.9362\n",
            "Epoch 12/15\n",
            "844/844 [==============================] - 6s 7ms/step - loss: 0.2145 - accuracy: 0.9403 - val_loss: 0.2112 - val_accuracy: 0.9427\n",
            "Epoch 13/15\n",
            "844/844 [==============================] - 6s 7ms/step - loss: 0.2076 - accuracy: 0.9414 - val_loss: 0.2235 - val_accuracy: 0.9388\n",
            "Epoch 14/15\n",
            "844/844 [==============================] - 6s 7ms/step - loss: 0.2021 - accuracy: 0.9419 - val_loss: 0.2133 - val_accuracy: 0.9405\n",
            "Epoch 15/15\n",
            "844/844 [==============================] - 6s 7ms/step - loss: 0.1972 - accuracy: 0.9438 - val_loss: 0.2089 - val_accuracy: 0.9455\n"
          ],
          "name": "stdout"
        }
      ]
    },
    {
      "cell_type": "code",
      "metadata": {
        "colab": {
          "base_uri": "https://localhost:8080/"
        },
        "id": "98HAbZ-pXC7u",
        "outputId": "8a1474b0-6273-4d05-9831-ff24a504eeb4"
      },
      "source": [
        "model = keras.Sequential(\n",
        "    [\n",
        "     layers.Input(shape=input_shape),\n",
        "     layers.Dense(500, activation=\"relu\"),\n",
        "     layers.Dense(150, activation=\"relu\"),\n",
        "     layers.Flatten(),\n",
        "     layers.Dense(num_classes, activation=\"softmax\")\n",
        "    ]\n",
        ")\n",
        "model.compile(optimizer=\"adam\", loss=\"categorical_crossentropy\", metrics=[\"accuracy\"])\n",
        "history = model.fit(tf_X_train, tf_Y_train, batch_size=batch_size, epochs=epochs, validation_split=validation_split, verbose=1)\n",
        "test = model.evaluate(tf_x_test, tf_y_test, verbose=0)\n",
        "models['500 + 150 HU'] = dict(model=model, history=history, test=test)"
      ],
      "execution_count": null,
      "outputs": [
        {
          "output_type": "stream",
          "text": [
            "Epoch 1/15\n",
            "844/844 [==============================] - 12s 14ms/step - loss: 0.3621 - accuracy: 0.8956 - val_loss: 0.2432 - val_accuracy: 0.9312\n",
            "Epoch 2/15\n",
            "844/844 [==============================] - 12s 14ms/step - loss: 0.2958 - accuracy: 0.9169 - val_loss: 0.2395 - val_accuracy: 0.9347\n",
            "Epoch 3/15\n",
            "844/844 [==============================] - 12s 14ms/step - loss: 0.2787 - accuracy: 0.9220 - val_loss: 0.2315 - val_accuracy: 0.9322\n",
            "Epoch 4/15\n",
            "844/844 [==============================] - 12s 14ms/step - loss: 0.2610 - accuracy: 0.9270 - val_loss: 0.2186 - val_accuracy: 0.9378\n",
            "Epoch 5/15\n",
            "844/844 [==============================] - 12s 14ms/step - loss: 0.2317 - accuracy: 0.9340 - val_loss: 0.2101 - val_accuracy: 0.9400\n",
            "Epoch 6/15\n",
            "844/844 [==============================] - 12s 14ms/step - loss: 0.2123 - accuracy: 0.9389 - val_loss: 0.2068 - val_accuracy: 0.9423\n",
            "Epoch 7/15\n",
            "844/844 [==============================] - 12s 14ms/step - loss: 0.1994 - accuracy: 0.9425 - val_loss: 0.2079 - val_accuracy: 0.9418\n",
            "Epoch 8/15\n",
            "844/844 [==============================] - 12s 14ms/step - loss: 0.1924 - accuracy: 0.9438 - val_loss: 0.2076 - val_accuracy: 0.9417\n",
            "Epoch 9/15\n",
            "844/844 [==============================] - 12s 14ms/step - loss: 0.1829 - accuracy: 0.9467 - val_loss: 0.2050 - val_accuracy: 0.9432\n",
            "Epoch 10/15\n",
            "844/844 [==============================] - 12s 14ms/step - loss: 0.1772 - accuracy: 0.9484 - val_loss: 0.2302 - val_accuracy: 0.9373\n",
            "Epoch 11/15\n",
            "844/844 [==============================] - 12s 14ms/step - loss: 0.1723 - accuracy: 0.9489 - val_loss: 0.2367 - val_accuracy: 0.9342\n",
            "Epoch 12/15\n",
            "844/844 [==============================] - 12s 14ms/step - loss: 0.1659 - accuracy: 0.9507 - val_loss: 0.2218 - val_accuracy: 0.9372\n",
            "Epoch 13/15\n",
            "844/844 [==============================] - 12s 14ms/step - loss: 0.1587 - accuracy: 0.9519 - val_loss: 0.2375 - val_accuracy: 0.9342\n",
            "Epoch 14/15\n",
            "844/844 [==============================] - 12s 14ms/step - loss: 0.1512 - accuracy: 0.9546 - val_loss: 0.2273 - val_accuracy: 0.9358\n",
            "Epoch 15/15\n",
            "844/844 [==============================] - 12s 14ms/step - loss: 0.1442 - accuracy: 0.9558 - val_loss: 0.2483 - val_accuracy: 0.9373\n"
          ],
          "name": "stdout"
        }
      ]
    },
    {
      "cell_type": "code",
      "metadata": {
        "colab": {
          "base_uri": "https://localhost:8080/"
        },
        "id": "F3TmbsXRjHqC",
        "outputId": "d382ad74-c461-4cb0-b211-7f824690c36f"
      },
      "source": [
        "model = keras.Sequential(\n",
        "    [\n",
        "     layers.Input(shape=input_shape),\n",
        "     layers.Conv2D(16, kernel_size=(3, 3), activation=\"relu\"),\n",
        "     layers.MaxPooling2D(pool_size=(2, 2)),\n",
        "     layers.Flatten(),\n",
        "     layers.Dense(num_classes, activation=\"softmax\")\n",
        "    ]\n",
        ")\n",
        "\n",
        "model.compile(optimizer=\"adam\", loss=\"categorical_crossentropy\", metrics=[\"accuracy\"])\n",
        "history = model.fit(tf_X_train, tf_Y_train, batch_size=batch_size, epochs=epochs, validation_split=validation_split, verbose=1)\n",
        "test = model.evaluate(tf_x_test, tf_y_test, verbose=0)\n",
        "models['Convolutional'] = dict(model=model, history=history, test=test)"
      ],
      "execution_count": null,
      "outputs": [
        {
          "output_type": "stream",
          "text": [
            "Epoch 1/15\n",
            "844/844 [==============================] - 2s 3ms/step - loss: 0.3229 - accuracy: 0.9158 - val_loss: 0.1136 - val_accuracy: 0.9723\n",
            "Epoch 2/15\n",
            "844/844 [==============================] - 2s 3ms/step - loss: 0.1102 - accuracy: 0.9685 - val_loss: 0.0798 - val_accuracy: 0.9792\n",
            "Epoch 3/15\n",
            "844/844 [==============================] - 2s 3ms/step - loss: 0.0802 - accuracy: 0.9773 - val_loss: 0.0720 - val_accuracy: 0.9805\n",
            "Epoch 4/15\n",
            "844/844 [==============================] - 2s 3ms/step - loss: 0.0656 - accuracy: 0.9812 - val_loss: 0.0639 - val_accuracy: 0.9827\n",
            "Epoch 5/15\n",
            "844/844 [==============================] - 2s 3ms/step - loss: 0.0576 - accuracy: 0.9827 - val_loss: 0.0564 - val_accuracy: 0.9847\n",
            "Epoch 6/15\n",
            "844/844 [==============================] - 2s 3ms/step - loss: 0.0511 - accuracy: 0.9851 - val_loss: 0.0609 - val_accuracy: 0.9827\n",
            "Epoch 7/15\n",
            "844/844 [==============================] - 2s 3ms/step - loss: 0.0462 - accuracy: 0.9863 - val_loss: 0.0570 - val_accuracy: 0.9852\n",
            "Epoch 8/15\n",
            "844/844 [==============================] - 2s 3ms/step - loss: 0.0418 - accuracy: 0.9876 - val_loss: 0.0560 - val_accuracy: 0.9842\n",
            "Epoch 9/15\n",
            "844/844 [==============================] - 2s 3ms/step - loss: 0.0384 - accuracy: 0.9885 - val_loss: 0.0559 - val_accuracy: 0.9858\n",
            "Epoch 10/15\n",
            "844/844 [==============================] - 2s 3ms/step - loss: 0.0354 - accuracy: 0.9891 - val_loss: 0.0551 - val_accuracy: 0.9840\n",
            "Epoch 11/15\n",
            "844/844 [==============================] - 2s 2ms/step - loss: 0.0323 - accuracy: 0.9902 - val_loss: 0.0555 - val_accuracy: 0.9853\n",
            "Epoch 12/15\n",
            "844/844 [==============================] - 2s 3ms/step - loss: 0.0298 - accuracy: 0.9912 - val_loss: 0.0554 - val_accuracy: 0.9845\n",
            "Epoch 13/15\n",
            "844/844 [==============================] - 2s 2ms/step - loss: 0.0268 - accuracy: 0.9923 - val_loss: 0.0569 - val_accuracy: 0.9853\n",
            "Epoch 14/15\n",
            "844/844 [==============================] - 2s 3ms/step - loss: 0.0256 - accuracy: 0.9926 - val_loss: 0.0558 - val_accuracy: 0.9855\n",
            "Epoch 15/15\n",
            "844/844 [==============================] - 2s 3ms/step - loss: 0.0231 - accuracy: 0.9932 - val_loss: 0.0585 - val_accuracy: 0.9860\n"
          ],
          "name": "stdout"
        }
      ]
    },
    {
      "cell_type": "code",
      "metadata": {
        "id": "ubiWiGSBdlt8"
      },
      "source": [
        "from scipy.interpolate import make_interp_spline, BSpline\n",
        "\n",
        "def get_spline(pts):\n",
        "  n = len(pts)\n",
        "  x = np.linspace(0, n, 4 * n)\n",
        "  spl = make_interp_spline(range(n), pts, k=3) # create a cubic spline from the data\n",
        "  return x, spl(x)"
      ],
      "execution_count": null,
      "outputs": []
    },
    {
      "cell_type": "code",
      "metadata": {
        "colab": {
          "base_uri": "https://localhost:8080/",
          "height": 930
        },
        "id": "agZoQoBLWFpj",
        "outputId": "c6b76442-95a8-4cc7-a90d-b510dd3c302e"
      },
      "source": [
        "m = len(models)\n",
        "fig, axs = plt.subplots(m, 2, figsize=(15, 5 * m))\n",
        "\n",
        "single_axis = len(np.shape(axs)) == 1\n",
        "\n",
        "if not single_axis:\n",
        "  i = 0\n",
        "  \n",
        "for (name, item) in models.items():\n",
        "  model = item['model']\n",
        "  history = item['history'].history\n",
        "\n",
        "  train_loss = history['loss']\n",
        "  train_acc = history['accuracy']\n",
        "  val_loss = history['val_loss']\n",
        "  val_acc = history['val_accuracy']\n",
        "  \n",
        "  (loss, accuracy) = item['test']\n",
        "  print(\"%s model: Loss %.4f - Accuracy %.4f\" % (name, loss, accuracy))\n",
        "\n",
        "  if single_axis:\n",
        "    (ax1, ax2) = axs\n",
        "  else:\n",
        "    ax1 = axs[i][0]\n",
        "    ax2 = axs[i][1]\n",
        "    i = i + 1\n",
        "\n",
        "  ax1.grid()\n",
        "  ax1.set_title(\"%s model loss\" % name)\n",
        "  ax1.plot(*get_spline(train_loss))\n",
        "  ax1.plot(*get_spline(val_loss))\n",
        "  ax1.legend(['train set', 'validation set'])\n",
        "\n",
        "  ax2.grid()\n",
        "  ax2.set_title(\"%s model accuracy\" % name)\n",
        "  ax2.plot(*get_spline(train_acc))\n",
        "  ax2.plot(*get_spline(val_acc))\n",
        "  ax2.legend(['train set', 'validation set'])"
      ],
      "execution_count": null,
      "outputs": [
        {
          "output_type": "stream",
          "text": [
            "300 HU model: Loss 0.2542 - Accuracy 0.9328\n",
            "500 + 150 HU model: Loss 0.3033 - Accuracy 0.9269\n",
            "Convolutional model: Loss 0.0553 - Accuracy 0.9831\n"
          ],
          "name": "stdout"
        },
        {
          "output_type": "display_data",
          "data": {
            "image/png": "[encoded data removed]",
            "text/plain": [
              "<Figure size 1080x1080 with 6 Axes>"
            ]
          },
          "metadata": {
            "tags": [],
            "needs_background": "light"
          }
        }
      ]
    },
    {
      "cell_type": "markdown",
      "metadata": {
        "id": "npZ5trl9nbrp"
      },
      "source": [
        "### Usage"
      ]
    },
    {
      "cell_type": "code",
      "metadata": {
        "id": "2DAMrK3WsS7N"
      },
      "source": [
        "def show_output(model, i, show=True):\n",
        "  example = x_test[i]\n",
        "\n",
        "  if show:\n",
        "    plt.figure()\n",
        "    plt.imshow(example, cmap='gray_r')\n",
        "\n",
        "  label = y_test[i]\n",
        "  predicted_class = np.argmax(model.predict(np.array([tf_x_test[i]]))) # get most dominant class\n",
        "\n",
        "  print(\"Sample #%d\" % i)\n",
        "  print(\"Actual:\", label)\n",
        "  print(\"Predicted:\", predicted_class)\n",
        "\n",
        "  return label == predicted_class"
      ],
      "execution_count": null,
      "outputs": []
    },
    {
      "cell_type": "code",
      "metadata": {
        "colab": {
          "base_uri": "https://localhost:8080/",
          "height": 1000
        },
        "id": "6ZlKcUzZnc5-",
        "outputId": "c010b856-a70e-4965-a8a4-d8c59092e916"
      },
      "source": [
        "model_FF_1L = models['300 HU']['model']\n",
        "model_FF_2L = models['500 + 150 HU']['model']\n",
        "model_Conv = models['Convolutional']['model']\n",
        "\n",
        "right = 123; wrong = 321 # hand picked from test set\n",
        "\n",
        "print(\"Model: 300 HU\"); show_output(model_FF_1L, right); print()\n",
        "print(\"Model: 500 + 150 HU\"); show_output(model_FF_2L, right, show=False); print()\n",
        "print(\"Model: Convolutional\"); show_output(model_Conv, right, show=False); print()\n",
        "\n",
        "print(\"Model: 300 HU\"); show_output(model_FF_1L, wrong); print()\n",
        "print(\"Model: 500 + 150 HU\"); show_output(model_FF_2L, wrong, show=False); print()\n",
        "print(\"Model: Convolutional\"); show_output(model_Conv, wrong, show=False); print()\n"
      ],
      "execution_count": null,
      "outputs": [
        {
          "output_type": "stream",
          "text": [
            "Model: 300 HU\n",
            "Sample #123\n",
            "Actual: 6\n",
            "Predicted: 6\n",
            "\n",
            "Model: 500 + 150 HU\n",
            "Sample #123\n",
            "Actual: 6\n",
            "Predicted: 6\n",
            "\n",
            "Model: Convolutional\n",
            "Sample #123\n",
            "Actual: 6\n",
            "Predicted: 6\n",
            "\n",
            "Model: 300 HU\n",
            "Sample #321\n",
            "Actual: 2\n",
            "Predicted: 7\n",
            "\n",
            "Model: 500 + 150 HU\n",
            "Sample #321\n",
            "Actual: 2\n",
            "Predicted: 7\n",
            "\n",
            "Model: Convolutional\n",
            "Sample #321\n",
            "Actual: 2\n",
            "Predicted: 7\n",
            "\n"
          ],
          "name": "stdout"
        },
        {
          "output_type": "display_data",
          "data": {
            "image/png": "[encoded data removed]",
            "text/plain": [
              "<Figure size 432x288 with 1 Axes>"
            ]
          },
          "metadata": {
            "tags": [],
            "needs_background": "light"
          }
        },
        {
          "output_type": "display_data",
          "data": {
            "image/png": "[encoded data removed]",
            "text/plain": [
              "<Figure size 432x288 with 1 Axes>"
            ]
          },
          "metadata": {
            "tags": [],
            "needs_background": "light"
          }
        }
      ]
    }
  ]
}
